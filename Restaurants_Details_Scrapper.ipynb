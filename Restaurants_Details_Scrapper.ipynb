{
 "cells": [
  {
   "cell_type": "markdown",
   "id": "b216ea4c",
   "metadata": {},
   "source": [
    "# IMPORTS"
   ]
  },
  {
   "cell_type": "code",
   "execution_count": null,
   "id": "cb26bba4",
   "metadata": {},
   "outputs": [],
   "source": [
    "import requests\n",
    "from bs4 import BeautifulSoup\n",
    "from selenium import webdriver\n",
    "import math\n",
    "import pandas as pd\n",
    "from selenium.webdriver.common.by import By\n",
    "from selenium.common.exceptions import *"
   ]
  },
  {
   "cell_type": "markdown",
   "id": "0802e0b7",
   "metadata": {},
   "source": [
    "# TRIP ADVISOR URL FOR SPECIFIC LOCATION BASED RESTAURANTS SEARCHING"
   ]
  },
  {
   "cell_type": "code",
   "execution_count": null,
   "id": "3cbb556a",
   "metadata": {},
   "outputs": [],
   "source": [
    "urls = [\"https://www.tripadvisor.com/Restaurants-g60763-New_York_City_New_York.html\",\n",
    "    \"https://www.tripadvisor.com/Restaurants-g60763-New_York_City_New_York.html\"\n",
    "       ]"
   ]
  },
  {
   "cell_type": "markdown",
   "id": "9c5dde32",
   "metadata": {},
   "source": [
    "# GETTING ALL THE RESTAURANTS NAMES AND PROFILE LINK AT THE GIVEN LOCATION"
   ]
  },
  {
   "cell_type": "code",
   "execution_count": null,
   "id": "0d70dff7",
   "metadata": {},
   "outputs": [],
   "source": [
    "# Navigate to the URL and wait for the page to load\n",
    "#import the webdriver\n",
    "\n",
    "\n",
    "for url in urls:\n",
    "    driver = webdriver.Chrome()\n",
    "    driver.get(url)\n",
    "    driver.implicitly_wait(10)\n",
    "    # Retrieve the HTML content of the page after the dynamic content has loaded\n",
    "    html = driver.page_source\n",
    "    # Use Beautiful Soup to parse the HTML content\n",
    "    soup = BeautifulSoup(html, \"html.parser\")\n",
    "    for name in soup.select(\".RfBGI > span > a\"):\n",
    "        restaurant_names.append(name.text.strip())\n",
    "        href = name.get(\"href\")\n",
    "        href=\"https://www.tripadvisor.com\"+str(href)\n",
    "        restaurant_links.append(href)\n",
    "        cities.append(url[47:-5])\n",
    "    "
   ]
  },
  {
   "cell_type": "code",
   "execution_count": null,
   "id": "06864e88",
   "metadata": {
    "scrolled": true
   },
   "outputs": [],
   "source": [
    "\"\"\"total_reataurants = soup.select('.SgeRJ span .b')\n",
    "restaurants_under_one_page=30\n",
    "Total_pages_to_scrap=math.floor((int(total_reataurants[0].text)/restaurants_under_one_page))\n",
    "Total_pages_to_scrap\"\"\""
   ]
  },
  {
   "cell_type": "code",
   "execution_count": null,
   "id": "10330c2c",
   "metadata": {},
   "outputs": [],
   "source": [
    "restaurant_names = []\n",
    "restaurant_links=[]\n",
    "cities=[]\n",
    "\n",
    "for url in urls:\n",
    "    driver.get(url)\n",
    "    driver.implicitly_wait(10)\n",
    "    for i in range(4):\n",
    "        driver.implicitly_wait(10)\n",
    "        print(i)\n",
    "        element = driver.find_element(By.CSS_SELECTOR,  \".nav.next.rndBtn.ui_button.primary.taLnk\")\n",
    "        if(element):\n",
    "            print(element)\n",
    "            driver.execute_script(\"arguments[0].click();\", element) \n",
    "            driver.implicitly_wait(10)\n",
    "            html = driver.page_source\n",
    "            driver.implicitly_wait(10)\n",
    "            # Use Beautiful Soup to parse the HTML content\n",
    "            soup = BeautifulSoup(html, \"html.parser\")\n",
    "            for name in soup.select(\".RfBGI > span > a\"):\n",
    "                restaurant_names.append(name.text.strip())\n",
    "                href = name.get(\"href\")\n",
    "                href=\"https://www.tripadvisor.com\"+str(href)\n",
    "                restaurant_links.append(href)\n",
    "                cities.append(url[47:-5])\n",
    "        else:\n",
    "            continue\n"
   ]
  },
  {
   "cell_type": "code",
   "execution_count": null,
   "id": "b56c177f",
   "metadata": {},
   "outputs": [],
   "source": [
    "df=pd.DataFrame(zip(restaurant_names,cities,restaurant_links))\n",
    "df.to_csv('Restaurants_list.csv',index=False)"
   ]
  },
  {
   "cell_type": "code",
   "execution_count": null,
   "id": "c39412a2",
   "metadata": {},
   "outputs": [],
   "source": [
    "df=pd.read_csv('Restaurants_list.csv')\n",
    "pd.options.display.max_colwidth = 1000\n"
   ]
  },
  {
   "cell_type": "code",
   "execution_count": null,
   "id": "71290c13",
   "metadata": {},
   "outputs": [],
   "source": [
    "len(df)"
   ]
  },
  {
   "cell_type": "code",
   "execution_count": null,
   "id": "ee9f465e",
   "metadata": {},
   "outputs": [],
   "source": [
    "\"\"\"def get_restaurant_details(url):\n",
    "    response = requests.get(url)\n",
    "    driver.implicitly_wait(10)\n",
    "    html = response.text\n",
    "    soup = BeautifulSoup(html, \"html.parser\")\n",
    "    rating=soup.select('.ZDEqb') \n",
    "    no_od_reviews=soup.select('.IcelI')\n",
    "    address=soup.select('.yEWoV')\n",
    "    additonal_address_details=soup.select('.yEWoV.OkcwQ')\n",
    "    website=soup.select('.YnKZo.Ci.Wc._S.C.FPPgD')\n",
    "    website = website.get(\"href\")\n",
    "    phone=soup.select('.IdiaP.Me a')\n",
    "    phone = phone.get(\"href\")\n",
    "    information=[rating,no_od_reviews,address,additonal_address_details,website,phone]\n",
    "    return information\"\"\""
   ]
  },
  {
   "cell_type": "markdown",
   "id": "9f933cf4",
   "metadata": {},
   "source": [
    "# OPENING THE PROFILE LINK AND GETTING THE FURTHER DETAILS"
   ]
  },
  {
   "cell_type": "code",
   "execution_count": null,
   "id": "ff20a921",
   "metadata": {},
   "outputs": [],
   "source": [
    "def get_restaurant_details(url):\n",
    "    driver.get(url)\n",
    "    driver.implicitly_wait(10)\n",
    "    # Retrieve the HTML content of the page after the dynamic content has loaded\n",
    "    html = driver.page_source\n",
    "    # Use Beautiful Soup to parse the HTML content\n",
    "    soup = BeautifulSoup(html, \"html.parser\")    \n",
    "    rating=soup.select('.QEQvp .ZDEqb') \n",
    "    if(len(rating)>0):\n",
    "        rating=rating[0].text\n",
    "    else:\n",
    "        rating=\"None\"\n",
    "    \n",
    "    no_od_reviews=soup.select('.IcelI')\n",
    "    if(len(no_od_reviews)>0):\n",
    "        no_od_reviews=no_od_reviews[0].text\n",
    "    else:\n",
    "        no_od_reviews=\"None\"\n",
    "        \n",
    "    address=soup.select('.yEWoV')\n",
    "    if(len(address)>0):\n",
    "        address=address[0].text\n",
    "    else:\n",
    "        address=\"None\"\n",
    "    additonal_address_details=soup.select('.yEWoV.OkcwQ')\n",
    "    if(len(additonal_address_details)>0):\n",
    "        additonal_address_details=additonal_address_details[0].text\n",
    "    else:\n",
    "        additonal_address_details=\"none\"\n",
    "    \n",
    "    website=soup.select('.IdiaP.Me.sNsFa span a')\n",
    "    if(len(website)>0):\n",
    "        website = str(website[0].get(\"href\"))\n",
    "    else:\n",
    "        website=\"None\"\n",
    "        \n",
    "    phone=list(soup.select('.f .IdiaP.Me a'))\n",
    "    \n",
    "    if(len(phone)>1):\n",
    "        phone=str(phone[1].get(\"href\"))\n",
    "    elif(len(phone)>2):\n",
    "        phone=str(phone[2].get(\"href\"))\n",
    "    else:\n",
    "        phone=\"None\"\n",
    "        \n",
    "    if(\"mailto\" in phone):\n",
    "        phone=phone[7:-10]\n",
    "    information=[rating,no_od_reviews,address,additonal_address_details,website,phone]\n",
    "    return information"
   ]
  },
  {
   "cell_type": "code",
   "execution_count": null,
   "id": "f48928c7",
   "metadata": {},
   "outputs": [],
   "source": [
    "get_restaurant_details('https://www.tripadvisor.com/Restaurant_Review-g47728-d4655681-Reviews-Franico_s-Florida_New_York.html')"
   ]
  },
  {
   "cell_type": "code",
   "execution_count": null,
   "id": "806823ff",
   "metadata": {},
   "outputs": [],
   "source": [
    "ratings=[]\n",
    "no_of_reviews=[]\n",
    "address=[]\n",
    "addtional_details=[]\n",
    "website=[]\n",
    "contact=[]\n",
    "driver = webdriver.Chrome()\n",
    "\n",
    "for index, row in df.iterrows():\n",
    "    print(index)\n",
    "    results=get_restaurant_details(df['2'][index])\n",
    "    ratings.append(results[0])\n",
    "    no_of_reviews.append(results[1])\n",
    "    address.append(results[2])\n",
    "    addtional_details.append(results[3])\n",
    "    website.append(results[4])\n",
    "    contact.append(results[5])"
   ]
  },
  {
   "cell_type": "markdown",
   "id": "58f25248",
   "metadata": {},
   "source": [
    "# MISSING CONTACTS DETAILS HANDLING"
   ]
  },
  {
   "cell_type": "code",
   "execution_count": null,
   "id": "25c0b81e",
   "metadata": {},
   "outputs": [],
   "source": [
    "def get_contact_details(url):\n",
    "    driver.get(url)\n",
    "    driver.implicitly_wait(10)\n",
    "    # Retrieve the HTML content of the page after the dynamic content has loaded\n",
    "    html = driver.page_source\n",
    "    # Use Beautiful Soup to parse the HTML content\n",
    "    soup = BeautifulSoup(html, \"html.parser\")    \n",
    "    \n",
    "    contact=list(soup.select('.DsyBj.cNFrA .AYHFM .BMQDV._F.G-.wSSLS.SwZTJ'))\n",
    "    \n",
    "    if(len(contact)>0):\n",
    "        contact=str(contact[0].text).strip()\n",
    "    \n",
    "    if(len(contact)>0):\n",
    "        contact=contact\n",
    "    else:\n",
    "        contact=\"Not Specified\"\n",
    "    print(contact)\n",
    "    return contact"
   ]
  },
  {
   "cell_type": "code",
   "execution_count": null,
   "id": "c2dffc9b",
   "metadata": {},
   "outputs": [],
   "source": [
    "get_contact_details('https://www.tripadvisor.com/Restaurant_Review-g60763-d12874338-Reviews-Los_Tacos_No_1-New_York_City_New_York.html')"
   ]
  },
  {
   "cell_type": "code",
   "execution_count": null,
   "id": "303d26f9",
   "metadata": {},
   "outputs": [],
   "source": [
    "contacts=[]\n",
    "driver = webdriver.Chrome()\n",
    "for index, row in df.iterrows():\n",
    "    results=get_contact_details(df['2'][index])\n",
    "    contacts.append(results)"
   ]
  },
  {
   "cell_type": "code",
   "execution_count": null,
   "id": "2177afcc",
   "metadata": {},
   "outputs": [],
   "source": []
  },
  {
   "cell_type": "code",
   "execution_count": null,
   "id": "2961a394",
   "metadata": {},
   "outputs": [],
   "source": [
    "df=pd.read_csv('restaurants_details.csv')\n",
    "pd.options.display.max_colwidth = 1000"
   ]
  },
  {
   "cell_type": "code",
   "execution_count": null,
   "id": "111c728d",
   "metadata": {},
   "outputs": [],
   "source": [
    "df.to_csv('restaurants_details.csv',index=False)"
   ]
  },
  {
   "cell_type": "code",
   "execution_count": null,
   "id": "bcb170cc",
   "metadata": {
    "scrolled": true
   },
   "outputs": [],
   "source": [
    "reviews_list=df['Total Reviews']"
   ]
  },
  {
   "cell_type": "code",
   "execution_count": null,
   "id": "405d062c",
   "metadata": {},
   "outputs": [],
   "source": [
    "total_reviews = 0\n",
    "for review in reviews_list:\n",
    "    \n",
    "    parts = review.split()\n",
    "    if len(parts) != 2 or parts[1] != 'reviews':\n",
    "        print(review)\n",
    "        print(f\"Invalid format: {review}\")\n",
    "    else:\n",
    "        try:\n",
    "            num_reviews = int(parts[0].replace(',', ''))\n",
    "            if(num_reviews>100):\n",
    "                total_reviews += 100\n",
    "            else:\n",
    "                total_reviews += num_reviews\n",
    "        except ValueError:\n",
    "            print(f\"Invalid number of reviews: {review}\")\n",
    "\n",
    "print(f\"The total number of reviews is: {total_reviews}\")\n"
   ]
  },
  {
   "cell_type": "code",
   "execution_count": null,
   "id": "888876cc",
   "metadata": {},
   "outputs": [],
   "source": []
  },
  {
   "cell_type": "code",
   "execution_count": null,
   "id": "c9373c7a",
   "metadata": {},
   "outputs": [],
   "source": []
  },
  {
   "cell_type": "code",
   "execution_count": null,
   "id": "518a31e1",
   "metadata": {},
   "outputs": [],
   "source": []
  }
 ],
 "metadata": {
  "kernelspec": {
   "display_name": "Python 3 (ipykernel)",
   "language": "python",
   "name": "python3"
  },
  "language_info": {
   "codemirror_mode": {
    "name": "ipython",
    "version": 3
   },
   "file_extension": ".py",
   "mimetype": "text/x-python",
   "name": "python",
   "nbconvert_exporter": "python",
   "pygments_lexer": "ipython3",
   "version": "3.9.12"
  }
 },
 "nbformat": 4,
 "nbformat_minor": 5
}
